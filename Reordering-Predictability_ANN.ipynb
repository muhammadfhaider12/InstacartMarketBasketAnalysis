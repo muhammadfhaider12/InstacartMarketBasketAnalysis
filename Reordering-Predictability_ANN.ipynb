{
 "cells": [
  {
   "cell_type": "code",
   "execution_count": 1,
   "id": "3743e468",
   "metadata": {},
   "outputs": [
    {
     "name": "stderr",
     "output_type": "stream",
     "text": [
      "C:\\Users\\MUH0351\\Anaconda3\\lib\\site-packages\\scipy\\__init__.py:155: UserWarning: A NumPy version >=1.18.5 and <1.25.0 is required for this version of SciPy (detected version 1.26.2\n",
      "  warnings.warn(f\"A NumPy version >={np_minversion} and <{np_maxversion}\"\n"
     ]
    }
   ],
   "source": [
    "import numpy as np\n",
    "import pandas as pd\n",
    "root='C:\\\\Users\\\\MUH0351\\\\Instacart Market Basket Analysis\\\\'\n",
    "import matplotlib.pyplot as plt\n",
    "import seaborn as sns\n",
    "from sklearn.model_selection import train_test_split\n",
    "from sklearn.preprocessing import MinMaxScaler\n",
    "import tensorflow as tf\n",
    "from sklearn.metrics import confusion_matrix, accuracy_score, classification_report\n",
    "from sklearn.metrics import roc_auc_score, roc_curve, precision_score, recall_score, f1_score"
   ]
  },
  {
   "cell_type": "code",
   "execution_count": 2,
   "id": "b378e8a3",
   "metadata": {},
   "outputs": [],
   "source": [
    "train_df = pd.read_pickle(root + 'train_df.pkl')"
   ]
  },
  {
   "cell_type": "code",
   "execution_count": 3,
   "id": "54e4ec4f",
   "metadata": {},
   "outputs": [],
   "source": [
    "def reduce_memory(df):\n",
    "    \n",
    "    \"\"\"\n",
    "    This function reduce the dataframe memory usage by converting it's type for easier handling.\n",
    "    \n",
    "    Parameters: Dataframe\n",
    "    Return: Dataframe\n",
    "    \"\"\"\n",
    "    \n",
    "    start_mem_usg = df.memory_usage().sum() / 1024**2 \n",
    "    print(\"Memory usage of properties dataframe is :\",start_mem_usg,\" MB\")\n",
    "    \n",
    "    for col in df.columns:\n",
    "        if df[col].dtypes in [\"int64\", \"int32\", \"int16\"]:\n",
    "            \n",
    "            cmin = df[col].min()\n",
    "            cmax = df[col].max()\n",
    "            \n",
    "            if cmin > np.iinfo(np.int8).min and cmax < np.iinfo(np.int8).max:\n",
    "                df[col] = df[col].astype(np.int8)\n",
    "            \n",
    "            elif cmin > np.iinfo(np.int16).min and cmax < np.iinfo(np.int16).max:\n",
    "                df[col] = df[col].astype(np.int16)\n",
    "            \n",
    "            elif cmin > np.iinfo(np.int32).min and cmax < np.iinfo(np.int32).max:\n",
    "                df[col] = df[col].astype(np.int32)\n",
    "        \n",
    "        if df[col].dtypes in [\"float64\", \"float32\"]:\n",
    "            \n",
    "            cmin = df[col].min()\n",
    "            cmax = df[col].max()\n",
    "            \n",
    "            if cmin > np.finfo(np.float16).min and cmax < np.finfo(np.float16).max:\n",
    "                df[col] = df[col].astype(np.float16)\n",
    "            \n",
    "            elif cmin > np.finfo(np.float32).min and cmax < np.finfo(np.float32).max:\n",
    "                df[col] = df[col].astype(np.float32)\n",
    "    \n",
    "    print(\"\")\n",
    "    print(\"___MEMORY USAGE AFTER COMPLETION:___\")\n",
    "    mem_usg = df.memory_usage().sum() / 1024**2 \n",
    "    print(\"Memory usage is: \",mem_usg,\" MB\")\n",
    "    print(\"This is \",100*mem_usg/start_mem_usg,\"% of the initial size\")\n",
    "    \n",
    "    return df"
   ]
  },
  {
   "cell_type": "code",
   "execution_count": 4,
   "id": "d47d05e9",
   "metadata": {},
   "outputs": [
    {
     "name": "stdout",
     "output_type": "stream",
     "text": [
      "Memory usage of properties dataframe is : 17074.43039703369  MB\n",
      "\n",
      "___MEMORY USAGE AFTER COMPLETION:___\n",
      "Memory usage is:  4516.063112258911  MB\n",
      "This is  26.44927536231884 % of the initial size\n"
     ]
    }
   ],
   "source": [
    "train_df=reduce_memory(train_df)"
   ]
  },
  {
   "cell_type": "code",
   "execution_count": 5,
   "id": "cf9cfb13",
   "metadata": {},
   "outputs": [
    {
     "data": {
      "text/html": [
       "<div>\n",
       "<style scoped>\n",
       "    .dataframe tbody tr th:only-of-type {\n",
       "        vertical-align: middle;\n",
       "    }\n",
       "\n",
       "    .dataframe tbody tr th {\n",
       "        vertical-align: top;\n",
       "    }\n",
       "\n",
       "    .dataframe thead th {\n",
       "        text-align: right;\n",
       "    }\n",
       "</style>\n",
       "<table border=\"1\" class=\"dataframe\">\n",
       "  <thead>\n",
       "    <tr style=\"text-align: right;\">\n",
       "      <th></th>\n",
       "      <th>user_id</th>\n",
       "      <th>order_number</th>\n",
       "      <th>order_dow</th>\n",
       "      <th>order_hour_of_day</th>\n",
       "      <th>days_since_prior_order</th>\n",
       "      <th>product_id</th>\n",
       "      <th>add_to_cart_order</th>\n",
       "      <th>reordered</th>\n",
       "      <th>user_product_orders</th>\n",
       "      <th>user_product_reorders</th>\n",
       "      <th>...</th>\n",
       "      <th>department_1</th>\n",
       "      <th>department_2</th>\n",
       "      <th>department_3</th>\n",
       "      <th>department_4</th>\n",
       "      <th>total_orders_by_department</th>\n",
       "      <th>total_reorders_by_department</th>\n",
       "      <th>reorder_ratio_by_department</th>\n",
       "      <th>add_to_cart_ratio_by_department</th>\n",
       "      <th>add_to_cart_std_by_department</th>\n",
       "      <th>total_unique_customers_by_department</th>\n",
       "    </tr>\n",
       "  </thead>\n",
       "  <tbody>\n",
       "    <tr>\n",
       "      <th>0</th>\n",
       "      <td>1</td>\n",
       "      <td>1</td>\n",
       "      <td>2</td>\n",
       "      <td>8</td>\n",
       "      <td>0.0</td>\n",
       "      <td>196</td>\n",
       "      <td>1</td>\n",
       "      <td>0</td>\n",
       "      <td>10</td>\n",
       "      <td>9</td>\n",
       "      <td>...</td>\n",
       "      <td>0</td>\n",
       "      <td>0</td>\n",
       "      <td>1</td>\n",
       "      <td>1</td>\n",
       "      <td>2690129</td>\n",
       "      <td>1757892</td>\n",
       "      <td>0.65332</td>\n",
       "      <td>6.976562</td>\n",
       "      <td>6.710938</td>\n",
       "      <td>172795</td>\n",
       "    </tr>\n",
       "    <tr>\n",
       "      <th>1</th>\n",
       "      <td>1</td>\n",
       "      <td>2</td>\n",
       "      <td>3</td>\n",
       "      <td>7</td>\n",
       "      <td>15.0</td>\n",
       "      <td>196</td>\n",
       "      <td>1</td>\n",
       "      <td>1</td>\n",
       "      <td>10</td>\n",
       "      <td>9</td>\n",
       "      <td>...</td>\n",
       "      <td>0</td>\n",
       "      <td>0</td>\n",
       "      <td>1</td>\n",
       "      <td>1</td>\n",
       "      <td>2690129</td>\n",
       "      <td>1757892</td>\n",
       "      <td>0.65332</td>\n",
       "      <td>6.976562</td>\n",
       "      <td>6.710938</td>\n",
       "      <td>172795</td>\n",
       "    </tr>\n",
       "    <tr>\n",
       "      <th>2</th>\n",
       "      <td>1</td>\n",
       "      <td>3</td>\n",
       "      <td>3</td>\n",
       "      <td>12</td>\n",
       "      <td>21.0</td>\n",
       "      <td>196</td>\n",
       "      <td>1</td>\n",
       "      <td>1</td>\n",
       "      <td>10</td>\n",
       "      <td>9</td>\n",
       "      <td>...</td>\n",
       "      <td>0</td>\n",
       "      <td>0</td>\n",
       "      <td>1</td>\n",
       "      <td>1</td>\n",
       "      <td>2690129</td>\n",
       "      <td>1757892</td>\n",
       "      <td>0.65332</td>\n",
       "      <td>6.976562</td>\n",
       "      <td>6.710938</td>\n",
       "      <td>172795</td>\n",
       "    </tr>\n",
       "    <tr>\n",
       "      <th>3</th>\n",
       "      <td>1</td>\n",
       "      <td>4</td>\n",
       "      <td>4</td>\n",
       "      <td>7</td>\n",
       "      <td>29.0</td>\n",
       "      <td>196</td>\n",
       "      <td>1</td>\n",
       "      <td>1</td>\n",
       "      <td>10</td>\n",
       "      <td>9</td>\n",
       "      <td>...</td>\n",
       "      <td>0</td>\n",
       "      <td>0</td>\n",
       "      <td>1</td>\n",
       "      <td>1</td>\n",
       "      <td>2690129</td>\n",
       "      <td>1757892</td>\n",
       "      <td>0.65332</td>\n",
       "      <td>6.976562</td>\n",
       "      <td>6.710938</td>\n",
       "      <td>172795</td>\n",
       "    </tr>\n",
       "    <tr>\n",
       "      <th>4</th>\n",
       "      <td>1</td>\n",
       "      <td>5</td>\n",
       "      <td>4</td>\n",
       "      <td>15</td>\n",
       "      <td>28.0</td>\n",
       "      <td>196</td>\n",
       "      <td>1</td>\n",
       "      <td>1</td>\n",
       "      <td>10</td>\n",
       "      <td>9</td>\n",
       "      <td>...</td>\n",
       "      <td>0</td>\n",
       "      <td>0</td>\n",
       "      <td>1</td>\n",
       "      <td>1</td>\n",
       "      <td>2690129</td>\n",
       "      <td>1757892</td>\n",
       "      <td>0.65332</td>\n",
       "      <td>6.976562</td>\n",
       "      <td>6.710938</td>\n",
       "      <td>172795</td>\n",
       "    </tr>\n",
       "  </tbody>\n",
       "</table>\n",
       "<p>5 rows × 68 columns</p>\n",
       "</div>"
      ],
      "text/plain": [
       "   user_id  order_number  order_dow  order_hour_of_day  \\\n",
       "0        1             1          2                  8   \n",
       "1        1             2          3                  7   \n",
       "2        1             3          3                 12   \n",
       "3        1             4          4                  7   \n",
       "4        1             5          4                 15   \n",
       "\n",
       "   days_since_prior_order  product_id  add_to_cart_order  reordered  \\\n",
       "0                     0.0         196                  1          0   \n",
       "1                    15.0         196                  1          1   \n",
       "2                    21.0         196                  1          1   \n",
       "3                    29.0         196                  1          1   \n",
       "4                    28.0         196                  1          1   \n",
       "\n",
       "   user_product_orders  user_product_reorders  ...  department_1  \\\n",
       "0                   10                      9  ...             0   \n",
       "1                   10                      9  ...             0   \n",
       "2                   10                      9  ...             0   \n",
       "3                   10                      9  ...             0   \n",
       "4                   10                      9  ...             0   \n",
       "\n",
       "   department_2  department_3  department_4  total_orders_by_department  \\\n",
       "0             0             1             1                     2690129   \n",
       "1             0             1             1                     2690129   \n",
       "2             0             1             1                     2690129   \n",
       "3             0             1             1                     2690129   \n",
       "4             0             1             1                     2690129   \n",
       "\n",
       "   total_reorders_by_department  reorder_ratio_by_department  \\\n",
       "0                       1757892                      0.65332   \n",
       "1                       1757892                      0.65332   \n",
       "2                       1757892                      0.65332   \n",
       "3                       1757892                      0.65332   \n",
       "4                       1757892                      0.65332   \n",
       "\n",
       "   add_to_cart_ratio_by_department  add_to_cart_std_by_department  \\\n",
       "0                         6.976562                       6.710938   \n",
       "1                         6.976562                       6.710938   \n",
       "2                         6.976562                       6.710938   \n",
       "3                         6.976562                       6.710938   \n",
       "4                         6.976562                       6.710938   \n",
       "\n",
       "   total_unique_customers_by_department  \n",
       "0                                172795  \n",
       "1                                172795  \n",
       "2                                172795  \n",
       "3                                172795  \n",
       "4                                172795  \n",
       "\n",
       "[5 rows x 68 columns]"
      ]
     },
     "execution_count": 5,
     "metadata": {},
     "output_type": "execute_result"
    }
   ],
   "source": [
    "train_df.head()"
   ]
  },
  {
   "cell_type": "code",
   "execution_count": 6,
   "id": "125fe159",
   "metadata": {},
   "outputs": [],
   "source": [
    "train_df.drop(['user_id','product_id'], axis=1, inplace=True)"
   ]
  },
  {
   "cell_type": "markdown",
   "id": "0c4fa668",
   "metadata": {},
   "source": [
    "# Splitting the dataset"
   ]
  },
  {
   "cell_type": "code",
   "execution_count": 7,
   "id": "f404f109",
   "metadata": {},
   "outputs": [],
   "source": [
    "X= train_df[train_df.columns.drop('reordered')]\n",
    "y=train_df['reordered']"
   ]
  },
  {
   "cell_type": "code",
   "execution_count": 8,
   "id": "6754a843",
   "metadata": {},
   "outputs": [],
   "source": [
    "X_train, X_test, y_train, y_test = train_test_split(X, y, test_size=0.33, stratify=y)"
   ]
  },
  {
   "cell_type": "markdown",
   "id": "e25b84a0",
   "metadata": {},
   "source": [
    "# Feature Scaling"
   ]
  },
  {
   "cell_type": "code",
   "execution_count": 9,
   "id": "297eff5a",
   "metadata": {},
   "outputs": [],
   "source": [
    "feat_scale = MinMaxScaler()\n",
    "X_train = feat_scale.fit_transform(X_train)\n",
    "X_test= feat_scale.fit_transform(X_test)"
   ]
  },
  {
   "cell_type": "markdown",
   "id": "c341b4fa",
   "metadata": {},
   "source": [
    "# Buiding ANN Model:"
   ]
  },
  {
   "cell_type": "code",
   "execution_count": 10,
   "id": "f5676726",
   "metadata": {},
   "outputs": [],
   "source": [
    "ann = tf.keras.models.Sequential()"
   ]
  },
  {
   "cell_type": "code",
   "execution_count": 11,
   "id": "696cddfb",
   "metadata": {},
   "outputs": [],
   "source": [
    "ann.add(tf.keras.layers.Dense(units=60, activation='relu'))\n",
    "ann.add(tf.keras.layers.Dense(units=30, activation='relu'))\n",
    "ann.add(tf.keras.layers.Dense(units=15, activation='relu'))\n",
    "ann.add(tf.keras.layers.Dense(units=5, activation='relu'))\n",
    "ann.add(tf.keras.layers.Dense(units=1, activation='sigmoid'))\n",
    "\n",
    "ann.compile(optimizer='adam', loss='binary_crossentropy', metrics=['accuracy'])"
   ]
  },
  {
   "cell_type": "code",
   "execution_count": 12,
   "id": "3376fd0f",
   "metadata": {},
   "outputs": [
    {
     "name": "stdout",
     "output_type": "stream",
     "text": [
      "Epoch 1/20\n",
      "54328/54328 [==============================] - 93s 2ms/step - loss: 0.1927 - accuracy: 0.9132\n",
      "Epoch 2/20\n",
      "54328/54328 [==============================] - 91s 2ms/step - loss: 0.1695 - accuracy: 0.9209\n",
      "Epoch 3/20\n",
      "54328/54328 [==============================] - 95s 2ms/step - loss: 0.1664 - accuracy: 0.9224\n",
      "Epoch 4/20\n",
      "54328/54328 [==============================] - 89s 2ms/step - loss: 0.1643 - accuracy: 0.9232\n",
      "Epoch 5/20\n",
      "54328/54328 [==============================] - 89s 2ms/step - loss: 0.1631 - accuracy: 0.9236\n",
      "Epoch 6/20\n",
      "54328/54328 [==============================] - 90s 2ms/step - loss: 0.1624 - accuracy: 0.9239\n",
      "Epoch 7/20\n",
      "54328/54328 [==============================] - 90s 2ms/step - loss: 0.1618 - accuracy: 0.9243\n",
      "Epoch 8/20\n",
      "54328/54328 [==============================] - 91s 2ms/step - loss: 0.1614 - accuracy: 0.9244\n",
      "Epoch 9/20\n",
      "54328/54328 [==============================] - 95s 2ms/step - loss: 0.1610 - accuracy: 0.9246\n",
      "Epoch 10/20\n",
      "54328/54328 [==============================] - 97s 2ms/step - loss: 0.1607 - accuracy: 0.9247\n",
      "Epoch 11/20\n",
      "54328/54328 [==============================] - 102s 2ms/step - loss: 0.1604 - accuracy: 0.9248\n",
      "Epoch 12/20\n",
      "54328/54328 [==============================] - 91s 2ms/step - loss: 0.1602 - accuracy: 0.9249\n",
      "Epoch 13/20\n",
      "54328/54328 [==============================] - 89s 2ms/step - loss: 0.1601 - accuracy: 0.9250\n",
      "Epoch 14/20\n",
      "54328/54328 [==============================] - 90s 2ms/step - loss: 0.1599 - accuracy: 0.9251\n",
      "Epoch 15/20\n",
      "54328/54328 [==============================] - 90s 2ms/step - loss: 0.1600 - accuracy: 0.9251\n",
      "Epoch 16/20\n",
      "54328/54328 [==============================] - 89s 2ms/step - loss: 0.1596 - accuracy: 0.9252\n",
      "Epoch 17/20\n",
      "54328/54328 [==============================] - 91s 2ms/step - loss: 0.1594 - accuracy: 0.9253\n",
      "Epoch 18/20\n",
      "54328/54328 [==============================] - 91s 2ms/step - loss: 0.1594 - accuracy: 0.9253\n",
      "Epoch 19/20\n",
      "54328/54328 [==============================] - 87s 2ms/step - loss: 0.1593 - accuracy: 0.9254\n",
      "Epoch 20/20\n",
      "54328/54328 [==============================] - 89s 2ms/step - loss: 0.1591 - accuracy: 0.9255\n"
     ]
    },
    {
     "data": {
      "text/plain": [
       "<keras.src.callbacks.History at 0x209396de5e0>"
      ]
     },
     "execution_count": 12,
     "metadata": {},
     "output_type": "execute_result"
    }
   ],
   "source": [
    "ann.fit(X_train, y_train, batch_size=400, epochs= 20)"
   ]
  },
  {
   "cell_type": "code",
   "execution_count": 13,
   "id": "433668a6",
   "metadata": {},
   "outputs": [
    {
     "name": "stdout",
     "output_type": "stream",
     "text": [
      "334481/334481 [==============================] - 280s 838us/step\n"
     ]
    }
   ],
   "source": [
    "probability= ann.predict(X_test)"
   ]
  },
  {
   "cell_type": "code",
   "execution_count": 14,
   "id": "5f96084e",
   "metadata": {},
   "outputs": [],
   "source": [
    "predictions = (probability>0.5)"
   ]
  },
  {
   "cell_type": "code",
   "execution_count": 16,
   "id": "bf83355a",
   "metadata": {},
   "outputs": [
    {
     "name": "stdout",
     "output_type": "stream",
     "text": [
      "Classification Report: \n",
      "                precision    recall  f1-score   support\n",
      "\n",
      "           0       0.94      0.88      0.91   4391625\n",
      "           1       0.92      0.96      0.94   6311757\n",
      "\n",
      "    accuracy                           0.93  10703382\n",
      "   macro avg       0.93      0.92      0.92  10703382\n",
      "weighted avg       0.93      0.93      0.93  10703382\n",
      "\n",
      "Accuracy Score:\n",
      " 0.9258133550685195\n",
      "F1 Score:  0.9385472932028592\n"
     ]
    },
    {
     "data": {
      "image/png": "[encoded data removed]",
      "text/plain": [
       "<Figure size 2400x1600 with 2 Axes>"
      ]
     },
     "metadata": {},
     "output_type": "display_data"
    },
    {
     "name": "stdout",
     "output_type": "stream",
     "text": [
      "Area under curve :  0.9815214027135067 \n",
      "\n"
     ]
    }
   ],
   "source": [
    "print('Classification Report: \\n ', classification_report(y_test, predictions))\n",
    "print('Accuracy Score:\\n', accuracy_score(y_test,predictions))\n",
    "\n",
    "#f1 score\n",
    "f1_scr = f1_score(y_test, predictions)\n",
    "print('F1 Score: ',f1_scr)\n",
    "\n",
    "\n",
    "#confusion matrix\n",
    "con_mat = confusion_matrix(y_test,predictions)\n",
    "plt.figure(figsize=(24,16))\n",
    "plt.subplot(222)\n",
    "sns.heatmap(con_mat, annot=True)\n",
    "plt.title('Confusion Matrix')\n",
    "plt.xlabel('Actual Values')\n",
    "plt.ylabel('Predicted Values')\n",
    "plt.show()\n",
    "\n",
    "\n",
    "\n",
    "\n",
    "#roc_auc_score\n",
    "model_roc_auc = roc_auc_score(y_test,probability) \n",
    "print (\"Area under curve : \",model_roc_auc,\"\\n\")\n",
    "fpr,tpr,thresholds = roc_curve(y_test,probability)\n",
    "gmeans = np.sqrt(tpr * (1-fpr))\n",
    "ix = np.argmax(gmeans)\n",
    "threshold = np.round(thresholds[ix],3)\n"
   ]
  },
  {
   "cell_type": "code",
   "execution_count": 17,
   "id": "7455d0e1",
   "metadata": {},
   "outputs": [
    {
     "data": {
      "image/png": "[encoded data removed]",
      "text/plain": [
       "<Figure size 2400x1600 with 1 Axes>"
      ]
     },
     "metadata": {},
     "output_type": "display_data"
    }
   ],
   "source": [
    "plt.figure(figsize=(24,16))\n",
    "plt.subplot(222)\n",
    "plt.plot(fpr, tpr, color='darkorange', lw=1, label = \"Auc : %.3f\" %model_roc_auc)\n",
    "plt.plot([0, 1], [0, 1], color='navy', lw=2, linestyle='--')\n",
    "plt.scatter(fpr[ix], tpr[ix], marker='o', color='black', label='Best Threshold:' + str(threshold))\n",
    "plt.xlim([0.0, 1.0])\n",
    "plt.ylim([0.0, 1.05])\n",
    "plt.xlabel('False Positive Rate')\n",
    "plt.ylabel('True Positive Rate')\n",
    "plt.title('Receiver operating characteristic')\n",
    "plt.legend(loc=\"lower right\")\n",
    "\n",
    "plt.show()"
   ]
  },
  {
   "cell_type": "code",
   "execution_count": null,
   "id": "d8179cdb",
   "metadata": {},
   "outputs": [],
   "source": []
  }
 ],
 "metadata": {
  "kernelspec": {
   "display_name": "Python 3 (ipykernel)",
   "language": "python",
   "name": "python3"
  },
  "language_info": {
   "codemirror_mode": {
    "name": "ipython",
    "version": 3
   },
   "file_extension": ".py",
   "mimetype": "text/x-python",
   "name": "python",
   "nbconvert_exporter": "python",
   "pygments_lexer": "ipython3",
   "version": "3.9.13"
  }
 },
 "nbformat": 4,
 "nbformat_minor": 5
}
